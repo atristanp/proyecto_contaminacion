{
  "nbformat": 4,
  "nbformat_minor": 0,
  "metadata": {
    "colab": {
      "name": "LSTM_MULTISTEP.ipynb",
      "provenance": [],
      "collapsed_sections": []
    },
    "kernelspec": {
      "name": "python3",
      "display_name": "Python 3"
    },
    "language_info": {
      "name": "python"
    },
    "accelerator": "GPU"
  },
  "cells": [
    {
      "cell_type": "code",
      "execution_count": null,
      "metadata": {
        "id": "TnzOREMXLmCP"
      },
      "outputs": [],
      "source": [
        "# multivariate multi-step encoder-decoder lstm\n",
        "from math import sqrt\n",
        "from numpy import split\n",
        "from numpy import array\n",
        "from pandas import read_csv\n",
        "from sklearn.metrics import mean_squared_error\n",
        "\n",
        "from sklearn.metrics import mean_absolute_error\n",
        "\n",
        "from matplotlib import pyplot\n",
        "from keras.models import Sequential\n",
        "from keras.layers import Dense\n",
        "from keras.layers import Flatten\n",
        "from keras.layers import LSTM\n",
        "from keras.layers import RepeatVector\n",
        "from keras.layers import TimeDistributed\n",
        "\n",
        "# split a univariate dataset into train/test sets\n",
        "def split_dataset(data):\n",
        "\t# split into standard weeks\n",
        "  #train, test = data[1:-16080], data[-16080:-6] # 6 más del múltiplo de 7\n",
        "  train, test = data[1:-328], data[-328:-6]\n",
        "\n",
        "  print(len(train))\n",
        "  print(len(test))\n",
        "\n",
        "\t# restructure into windows of weekly data\n",
        "  train = array(split(train, len(train)/7))\n",
        "  test = array(split(test, len(test)/7))\n",
        "  return train, test\n",
        "\n",
        "# evaluate one or more weekly forecasts against expected values\n",
        "def evaluate_forecasts(actual, predicted):\n",
        "  scores = list()\n",
        "  # calculate an RMSE score for each day\n",
        "  for i in range(actual.shape[1]):\n",
        "    # calculate mse\n",
        "    #mse = mean_squared_error(actual[:, i], predicted[:, i])\n",
        "\n",
        "    mae = mean_absolute_error(actual[:, i], predicted[:, i])\n",
        "    # calculate rmse\n",
        "    #rmse = sqrt(mse)\n",
        "    # store\n",
        "    scores.append(mae)\n",
        "  # calculate overall RMSE\n",
        "  s = 0\n",
        "  for row in range(actual.shape[0]):\n",
        "    for col in range(actual.shape[1]):\n",
        "      s += (actual[row, col] - predicted[row, col])**2\n",
        "  score = sqrt(s / (actual.shape[0] * actual.shape[1]))\n",
        "  return score, scores\n",
        "\n",
        "# summarize scores\n",
        "def summarize_scores(name, score, scores):\n",
        "\ts_scores = ', '.join(['%.1f' % s for s in scores])\n",
        "\tprint('%s: [%.3f] %s' % (name, score, s_scores))\n",
        "\n",
        "# convert history into inputs and outputs\n",
        "def to_supervised(train, n_input, n_out=7):\n",
        "\t# flatten data\n",
        "\tdata = train.reshape((train.shape[0]*train.shape[1], train.shape[2]))\n",
        "\tX, y = list(), list()\n",
        "\tin_start = 0\n",
        "\t# step over the entire history one time step at a time\n",
        "\tfor _ in range(len(data)):\n",
        "\t\t# define the end of the input sequence\n",
        "\t\tin_end = in_start + n_input\n",
        "\t\tout_end = in_end + n_out\n",
        "\t\t# ensure we have enough data for this instance\n",
        "\t\tif out_end <= len(data):\n",
        "\t\t\tX.append(data[in_start:in_end, :])\n",
        "\t\t\ty.append(data[in_end:out_end, 0])\n",
        "\t\t# move along one time step\n",
        "\t\tin_start += 1\n",
        "\treturn array(X), array(y)\n",
        "\n",
        "# train the model\n",
        "def build_model(train, n_input):\n",
        "  # prepare data\n",
        "  train_x, train_y = to_supervised(train, n_input)\n",
        "  # define parameters\n",
        "  verbose, epochs, batch_size = 1, 5, 64 # 0, 50, 16\n",
        "  n_timesteps, n_features, n_outputs = train_x.shape[1], train_x.shape[2], train_y.shape[1]\n",
        "  # reshape output into [samples, timesteps, features]\n",
        "  train_y = train_y.reshape((train_y.shape[0], train_y.shape[1], 1))\n",
        "  # define model\n",
        "  model = Sequential()\n",
        "  model.add(LSTM(200, activation='relu', input_shape=(n_timesteps, n_features)))\n",
        "  model.add(RepeatVector(n_outputs))\n",
        "  model.add(LSTM(200, activation='relu', return_sequences=True))\n",
        "  model.add(TimeDistributed(Dense(100, activation='relu')))\n",
        "  model.add(TimeDistributed(Dense(1)))\n",
        "  model.compile(loss='mae', optimizer='adam') #mse\n",
        "\n",
        "  callbacks = [\n",
        "    tf.keras.callbacks.EarlyStopping(patience=5, monitor=\"loss\"),\n",
        "    #tf.keras.callbacks.ModelCheckpoint(filepath='model.{epoch:02d}-{val_loss:.2f}.h5'),\n",
        "    tf.keras.callbacks.ModelCheckpoint(filepath='FirstModel.h5'),\n",
        "  ] \n",
        "\n",
        "\n",
        "  # fit network\n",
        "  model.fit(train_x, train_y, epochs=epochs, batch_size=batch_size, verbose=verbose, callbacks=callbacks)\n",
        "  return model\n",
        "\n",
        "# make a forecast\n",
        "def forecast(model, history, n_input):\n",
        "\t# flatten data\n",
        "\tdata = array(history)\n",
        "\tdata = data.reshape((data.shape[0]*data.shape[1], data.shape[2]))\n",
        "\t# retrieve last observations for input data\n",
        "\tinput_x = data[-n_input:, :]\n",
        "\t# reshape into [1, n_input, n]\n",
        "\tinput_x = input_x.reshape((1, input_x.shape[0], input_x.shape[1]))\n",
        "\t# forecast the next week\n",
        "\tyhat = model.predict(input_x, verbose=0)\n",
        "\t# we only want the vector forecast\n",
        "\tyhat = yhat[0]\n",
        "\treturn yhat\n",
        "\n",
        "# evaluate a single model\n",
        "def evaluate_model(train, test, n_input):\n",
        "\t# fit model\n",
        "\tmodel = build_model(train, n_input)\n",
        "\t# history is a list of weekly data\n",
        "\thistory = [x for x in train]\n",
        "\t# walk-forward validation over each week\n",
        "\tpredictions = list()\n",
        "\tfor i in range(len(test)):\n",
        "\t\t# predict the week\n",
        "\t\tyhat_sequence = forecast(model, history, n_input)\n",
        "\t\t# store the predictions\n",
        "\t\tpredictions.append(yhat_sequence)\n",
        "\t\t# get real observation and add to history for predicting the next week\n",
        "\t\thistory.append(test[i, :])\n",
        "\t# evaluate predictions days for each week\n",
        "\tpredictions = array(predictions)\n",
        "\tscore, scores = evaluate_forecasts(test[:, :, 0], predictions)\n",
        "\treturn score, scores, model\n"
      ]
    },
    {
      "cell_type": "code",
      "source": [
        "import pandas as pd\n",
        "import numpy as np\n",
        "import matplotlib.pyplot as plt\n",
        "import tensorflow as tf\n",
        "from sklearn.preprocessing import MinMaxScaler\n",
        "\n",
        "from influxdb import DataFrameClient"
      ],
      "metadata": {
        "id": "vr55X_tLL1pw"
      },
      "execution_count": null,
      "outputs": []
    },
    {
      "cell_type": "code",
      "source": [
        "!pip install influxdb"
      ],
      "metadata": {
        "colab": {
          "base_uri": "https://localhost:8080/"
        },
        "id": "ZLE96wpFL3kM",
        "outputId": "a4e6704c-c3c4-47df-951d-fb8561c7c115"
      },
      "execution_count": null,
      "outputs": [
        {
          "output_type": "stream",
          "name": "stdout",
          "text": [
            "Collecting influxdb\n",
            "  Downloading influxdb-5.3.1-py2.py3-none-any.whl (77 kB)\n",
            "\u001b[?25l\r\u001b[K     |████▏                           | 10 kB 26.2 MB/s eta 0:00:01\r\u001b[K     |████████▍                       | 20 kB 21.1 MB/s eta 0:00:01\r\u001b[K     |████████████▋                   | 30 kB 17.3 MB/s eta 0:00:01\r\u001b[K     |████████████████▉               | 40 kB 14.8 MB/s eta 0:00:01\r\u001b[K     |█████████████████████           | 51 kB 10.5 MB/s eta 0:00:01\r\u001b[K     |█████████████████████████▎      | 61 kB 12.0 MB/s eta 0:00:01\r\u001b[K     |█████████████████████████████▍  | 71 kB 11.7 MB/s eta 0:00:01\r\u001b[K     |████████████████████████████████| 77 kB 4.6 MB/s \n",
            "\u001b[?25hRequirement already satisfied: six>=1.10.0 in /usr/local/lib/python3.7/dist-packages (from influxdb) (1.15.0)\n",
            "Requirement already satisfied: requests>=2.17.0 in /usr/local/lib/python3.7/dist-packages (from influxdb) (2.23.0)\n",
            "Requirement already satisfied: python-dateutil>=2.6.0 in /usr/local/lib/python3.7/dist-packages (from influxdb) (2.8.2)\n",
            "Requirement already satisfied: msgpack in /usr/local/lib/python3.7/dist-packages (from influxdb) (1.0.3)\n",
            "Requirement already satisfied: pytz in /usr/local/lib/python3.7/dist-packages (from influxdb) (2018.9)\n",
            "Requirement already satisfied: chardet<4,>=3.0.2 in /usr/local/lib/python3.7/dist-packages (from requests>=2.17.0->influxdb) (3.0.4)\n",
            "Requirement already satisfied: certifi>=2017.4.17 in /usr/local/lib/python3.7/dist-packages (from requests>=2.17.0->influxdb) (2021.10.8)\n",
            "Requirement already satisfied: idna<3,>=2.5 in /usr/local/lib/python3.7/dist-packages (from requests>=2.17.0->influxdb) (2.10)\n",
            "Requirement already satisfied: urllib3!=1.25.0,!=1.25.1,<1.26,>=1.21.1 in /usr/local/lib/python3.7/dist-packages (from requests>=2.17.0->influxdb) (1.24.3)\n",
            "Installing collected packages: influxdb\n",
            "Successfully installed influxdb-5.3.1\n"
          ]
        }
      ]
    },
    {
      "cell_type": "code",
      "source": [
        "dbhost = '34.77.9.141'\n",
        "dbport = 8086\n",
        "dbuser = 'root'\n",
        "dbpasswd = '12345678'\n",
        "dbname = 'registros_contaminacion'\n",
        "\n",
        "client = DataFrameClient(dbhost, dbport, dbuser, dbpasswd, dbname)\n",
        "\n",
        "df = client.query('select * from ESTACION_8')['ESTACION_8']"
      ],
      "metadata": {
        "id": "m0-cOArSL8Uh"
      },
      "execution_count": null,
      "outputs": []
    },
    {
      "cell_type": "code",
      "source": [
        "df = df[[\"NO2\", \"SO2\", \"PM10\", \"PM25\", \"O3\"]] # \"Categoria\"\n",
        "df"
      ],
      "metadata": {
        "colab": {
          "base_uri": "https://localhost:8080/",
          "height": 423
        },
        "id": "6qmcAD08MBrt",
        "outputId": "182801af-9748-4d6c-bc87-cd49fa66cbf0"
      },
      "execution_count": null,
      "outputs": [
        {
          "output_type": "execute_result",
          "data": {
            "text/plain": [
              "                            NO2   SO2  PM10  PM25    O3\n",
              "2001-01-01 00:00:00+00:00  67.0  26.0  32.0   NaN   7.0\n",
              "2001-01-01 01:00:00+00:00  71.0  21.0  41.0   NaN   7.0\n",
              "2001-01-01 02:00:00+00:00  73.0  22.0  50.0   NaN   7.0\n",
              "2001-01-01 03:00:00+00:00  75.0  19.0  55.0   NaN   7.0\n",
              "2001-01-01 04:00:00+00:00  67.0  14.0  42.0   NaN   8.0\n",
              "...                         ...   ...   ...   ...   ...\n",
              "2022-04-17 03:00:00+00:00  18.0   4.0   8.0   2.0  72.0\n",
              "2022-04-17 04:00:00+00:00  16.0   5.0   6.0   1.0  71.0\n",
              "2022-04-17 05:00:00+00:00  19.0   5.0   9.0   4.0  64.0\n",
              "2022-04-17 06:00:00+00:00  28.0   5.0  12.0   7.0  45.0\n",
              "2022-04-17 07:00:00+00:00  24.0   5.0  17.0  10.0  56.0\n",
              "\n",
              "[172013 rows x 5 columns]"
            ],
            "text/html": [
              "\n",
              "  <div id=\"df-fdce53fc-7116-4a6f-a459-7b64f64d4867\">\n",
              "    <div class=\"colab-df-container\">\n",
              "      <div>\n",
              "<style scoped>\n",
              "    .dataframe tbody tr th:only-of-type {\n",
              "        vertical-align: middle;\n",
              "    }\n",
              "\n",
              "    .dataframe tbody tr th {\n",
              "        vertical-align: top;\n",
              "    }\n",
              "\n",
              "    .dataframe thead th {\n",
              "        text-align: right;\n",
              "    }\n",
              "</style>\n",
              "<table border=\"1\" class=\"dataframe\">\n",
              "  <thead>\n",
              "    <tr style=\"text-align: right;\">\n",
              "      <th></th>\n",
              "      <th>NO2</th>\n",
              "      <th>SO2</th>\n",
              "      <th>PM10</th>\n",
              "      <th>PM25</th>\n",
              "      <th>O3</th>\n",
              "    </tr>\n",
              "  </thead>\n",
              "  <tbody>\n",
              "    <tr>\n",
              "      <th>2001-01-01 00:00:00+00:00</th>\n",
              "      <td>67.0</td>\n",
              "      <td>26.0</td>\n",
              "      <td>32.0</td>\n",
              "      <td>NaN</td>\n",
              "      <td>7.0</td>\n",
              "    </tr>\n",
              "    <tr>\n",
              "      <th>2001-01-01 01:00:00+00:00</th>\n",
              "      <td>71.0</td>\n",
              "      <td>21.0</td>\n",
              "      <td>41.0</td>\n",
              "      <td>NaN</td>\n",
              "      <td>7.0</td>\n",
              "    </tr>\n",
              "    <tr>\n",
              "      <th>2001-01-01 02:00:00+00:00</th>\n",
              "      <td>73.0</td>\n",
              "      <td>22.0</td>\n",
              "      <td>50.0</td>\n",
              "      <td>NaN</td>\n",
              "      <td>7.0</td>\n",
              "    </tr>\n",
              "    <tr>\n",
              "      <th>2001-01-01 03:00:00+00:00</th>\n",
              "      <td>75.0</td>\n",
              "      <td>19.0</td>\n",
              "      <td>55.0</td>\n",
              "      <td>NaN</td>\n",
              "      <td>7.0</td>\n",
              "    </tr>\n",
              "    <tr>\n",
              "      <th>2001-01-01 04:00:00+00:00</th>\n",
              "      <td>67.0</td>\n",
              "      <td>14.0</td>\n",
              "      <td>42.0</td>\n",
              "      <td>NaN</td>\n",
              "      <td>8.0</td>\n",
              "    </tr>\n",
              "    <tr>\n",
              "      <th>...</th>\n",
              "      <td>...</td>\n",
              "      <td>...</td>\n",
              "      <td>...</td>\n",
              "      <td>...</td>\n",
              "      <td>...</td>\n",
              "    </tr>\n",
              "    <tr>\n",
              "      <th>2022-04-17 03:00:00+00:00</th>\n",
              "      <td>18.0</td>\n",
              "      <td>4.0</td>\n",
              "      <td>8.0</td>\n",
              "      <td>2.0</td>\n",
              "      <td>72.0</td>\n",
              "    </tr>\n",
              "    <tr>\n",
              "      <th>2022-04-17 04:00:00+00:00</th>\n",
              "      <td>16.0</td>\n",
              "      <td>5.0</td>\n",
              "      <td>6.0</td>\n",
              "      <td>1.0</td>\n",
              "      <td>71.0</td>\n",
              "    </tr>\n",
              "    <tr>\n",
              "      <th>2022-04-17 05:00:00+00:00</th>\n",
              "      <td>19.0</td>\n",
              "      <td>5.0</td>\n",
              "      <td>9.0</td>\n",
              "      <td>4.0</td>\n",
              "      <td>64.0</td>\n",
              "    </tr>\n",
              "    <tr>\n",
              "      <th>2022-04-17 06:00:00+00:00</th>\n",
              "      <td>28.0</td>\n",
              "      <td>5.0</td>\n",
              "      <td>12.0</td>\n",
              "      <td>7.0</td>\n",
              "      <td>45.0</td>\n",
              "    </tr>\n",
              "    <tr>\n",
              "      <th>2022-04-17 07:00:00+00:00</th>\n",
              "      <td>24.0</td>\n",
              "      <td>5.0</td>\n",
              "      <td>17.0</td>\n",
              "      <td>10.0</td>\n",
              "      <td>56.0</td>\n",
              "    </tr>\n",
              "  </tbody>\n",
              "</table>\n",
              "<p>172013 rows × 5 columns</p>\n",
              "</div>\n",
              "      <button class=\"colab-df-convert\" onclick=\"convertToInteractive('df-fdce53fc-7116-4a6f-a459-7b64f64d4867')\"\n",
              "              title=\"Convert this dataframe to an interactive table.\"\n",
              "              style=\"display:none;\">\n",
              "        \n",
              "  <svg xmlns=\"http://www.w3.org/2000/svg\" height=\"24px\"viewBox=\"0 0 24 24\"\n",
              "       width=\"24px\">\n",
              "    <path d=\"M0 0h24v24H0V0z\" fill=\"none\"/>\n",
              "    <path d=\"M18.56 5.44l.94 2.06.94-2.06 2.06-.94-2.06-.94-.94-2.06-.94 2.06-2.06.94zm-11 1L8.5 8.5l.94-2.06 2.06-.94-2.06-.94L8.5 2.5l-.94 2.06-2.06.94zm10 10l.94 2.06.94-2.06 2.06-.94-2.06-.94-.94-2.06-.94 2.06-2.06.94z\"/><path d=\"M17.41 7.96l-1.37-1.37c-.4-.4-.92-.59-1.43-.59-.52 0-1.04.2-1.43.59L10.3 9.45l-7.72 7.72c-.78.78-.78 2.05 0 2.83L4 21.41c.39.39.9.59 1.41.59.51 0 1.02-.2 1.41-.59l7.78-7.78 2.81-2.81c.8-.78.8-2.07 0-2.86zM5.41 20L4 18.59l7.72-7.72 1.47 1.35L5.41 20z\"/>\n",
              "  </svg>\n",
              "      </button>\n",
              "      \n",
              "  <style>\n",
              "    .colab-df-container {\n",
              "      display:flex;\n",
              "      flex-wrap:wrap;\n",
              "      gap: 12px;\n",
              "    }\n",
              "\n",
              "    .colab-df-convert {\n",
              "      background-color: #E8F0FE;\n",
              "      border: none;\n",
              "      border-radius: 50%;\n",
              "      cursor: pointer;\n",
              "      display: none;\n",
              "      fill: #1967D2;\n",
              "      height: 32px;\n",
              "      padding: 0 0 0 0;\n",
              "      width: 32px;\n",
              "    }\n",
              "\n",
              "    .colab-df-convert:hover {\n",
              "      background-color: #E2EBFA;\n",
              "      box-shadow: 0px 1px 2px rgba(60, 64, 67, 0.3), 0px 1px 3px 1px rgba(60, 64, 67, 0.15);\n",
              "      fill: #174EA6;\n",
              "    }\n",
              "\n",
              "    [theme=dark] .colab-df-convert {\n",
              "      background-color: #3B4455;\n",
              "      fill: #D2E3FC;\n",
              "    }\n",
              "\n",
              "    [theme=dark] .colab-df-convert:hover {\n",
              "      background-color: #434B5C;\n",
              "      box-shadow: 0px 1px 3px 1px rgba(0, 0, 0, 0.15);\n",
              "      filter: drop-shadow(0px 1px 2px rgba(0, 0, 0, 0.3));\n",
              "      fill: #FFFFFF;\n",
              "    }\n",
              "  </style>\n",
              "\n",
              "      <script>\n",
              "        const buttonEl =\n",
              "          document.querySelector('#df-fdce53fc-7116-4a6f-a459-7b64f64d4867 button.colab-df-convert');\n",
              "        buttonEl.style.display =\n",
              "          google.colab.kernel.accessAllowed ? 'block' : 'none';\n",
              "\n",
              "        async function convertToInteractive(key) {\n",
              "          const element = document.querySelector('#df-fdce53fc-7116-4a6f-a459-7b64f64d4867');\n",
              "          const dataTable =\n",
              "            await google.colab.kernel.invokeFunction('convertToInteractive',\n",
              "                                                     [key], {});\n",
              "          if (!dataTable) return;\n",
              "\n",
              "          const docLinkHtml = 'Like what you see? Visit the ' +\n",
              "            '<a target=\"_blank\" href=https://colab.research.google.com/notebooks/data_table.ipynb>data table notebook</a>'\n",
              "            + ' to learn more about interactive tables.';\n",
              "          element.innerHTML = '';\n",
              "          dataTable['output_type'] = 'display_data';\n",
              "          await google.colab.output.renderOutput(dataTable, element);\n",
              "          const docLink = document.createElement('div');\n",
              "          docLink.innerHTML = docLinkHtml;\n",
              "          element.appendChild(docLink);\n",
              "        }\n",
              "      </script>\n",
              "    </div>\n",
              "  </div>\n",
              "  "
            ]
          },
          "metadata": {},
          "execution_count": 5
        }
      ]
    },
    {
      "cell_type": "code",
      "source": [
        "df = df.dropna() # drop NaN"
      ],
      "metadata": {
        "id": "oyjeQ8eaMeqg"
      },
      "execution_count": null,
      "outputs": []
    },
    {
      "cell_type": "code",
      "source": [
        "# split into train and test\n",
        "train, test = split_dataset(df.values)"
      ],
      "metadata": {
        "colab": {
          "base_uri": "https://localhost:8080/"
        },
        "id": "JKIpLxB1Mya5",
        "outputId": "2d5c5e13-b086-4fbe-b250-7eefa608bf4c"
      },
      "execution_count": null,
      "outputs": [
        {
          "output_type": "stream",
          "name": "stdout",
          "text": [
            "101535\n",
            "322\n"
          ]
        }
      ]
    },
    {
      "cell_type": "code",
      "source": [
        "train"
      ],
      "metadata": {
        "colab": {
          "base_uri": "https://localhost:8080/"
        },
        "id": "MCrGtKynz23u",
        "outputId": "5560fe44-efad-40ce-89db-34a36f4b5e1d"
      },
      "execution_count": null,
      "outputs": [
        {
          "output_type": "execute_result",
          "data": {
            "text/plain": [
              "array([[[52., 10., 35., 14., 24.],\n",
              "        [50., 10., 19., 12., 28.],\n",
              "        [45., 10., 22.,  8., 38.],\n",
              "        ...,\n",
              "        [41., 10., 21., 11., 48.],\n",
              "        [45., 10., 22., 10., 42.],\n",
              "        [35.,  9.,  9.,  4., 50.]],\n",
              "\n",
              "       [[35.,  9., 37.,  9., 46.],\n",
              "        [47., 10.,  5.,  1., 34.],\n",
              "        [51., 10., 11.,  8., 29.],\n",
              "        ...,\n",
              "        [55., 10., 19., 10., 23.],\n",
              "        [51.,  9.,  4.,  4., 25.],\n",
              "        [50.,  9.,  5.,  2., 23.]],\n",
              "\n",
              "       [[50.,  9.,  8.,  4., 19.],\n",
              "        [39.,  9., 14.,  7., 33.],\n",
              "        [30.,  9.,  5.,  1., 48.],\n",
              "        ...,\n",
              "        [19.,  9.,  4.,  2., 56.],\n",
              "        [26.,  8.,  4.,  2., 45.],\n",
              "        [29.,  8.,  5.,  1., 30.]],\n",
              "\n",
              "       ...,\n",
              "\n",
              "       [[44.,  4., 12.,  8., 41.],\n",
              "        [30.,  3.,  8.,  6., 52.],\n",
              "        [26.,  3.,  9.,  6., 53.],\n",
              "        ...,\n",
              "        [22.,  3.,  4.,  2., 53.],\n",
              "        [23.,  3.,  8.,  7., 50.],\n",
              "        [17.,  3.,  3.,  2., 56.]],\n",
              "\n",
              "       [[19.,  3.,  1.,  1., 55.],\n",
              "        [12.,  3.,  1.,  1., 62.],\n",
              "        [18.,  3.,  4.,  3., 54.],\n",
              "        ...,\n",
              "        [28.,  3.,  9.,  7., 44.],\n",
              "        [29.,  3., 12., 10., 47.],\n",
              "        [32.,  3.,  7.,  5., 48.]],\n",
              "\n",
              "       [[33.,  3.,  2.,  1., 53.],\n",
              "        [29.,  4.,  5.,  2., 61.],\n",
              "        [25.,  3.,  3.,  1., 66.],\n",
              "        ...,\n",
              "        [22.,  3.,  6.,  5., 72.],\n",
              "        [23.,  3., 11.,  9., 72.],\n",
              "        [22.,  3.,  2.,  1., 74.]]])"
            ]
          },
          "metadata": {},
          "execution_count": 43
        }
      ]
    },
    {
      "cell_type": "code",
      "source": [
        "\n",
        "# evaluate model and get scores\n",
        "n_input = 14\n",
        "score, scores, model = evaluate_model(train, test, n_input)"
      ],
      "metadata": {
        "colab": {
          "base_uri": "https://localhost:8080/"
        },
        "id": "viCYv7nHM5VO",
        "outputId": "2f595de1-9267-4468-a6fc-3ea325041e9f"
      },
      "execution_count": null,
      "outputs": [
        {
          "output_type": "stream",
          "name": "stdout",
          "text": [
            "WARNING:tensorflow:Layer lstm_14 will not use cuDNN kernels since it doesn't meet the criteria. It will use a generic GPU kernel as fallback when running on GPU.\n",
            "WARNING:tensorflow:Layer lstm_15 will not use cuDNN kernels since it doesn't meet the criteria. It will use a generic GPU kernel as fallback when running on GPU.\n",
            "Epoch 1/5\n",
            "1587/1587 [==============================] - 50s 30ms/step - loss: 17.9098\n",
            "Epoch 2/5\n",
            "1587/1587 [==============================] - 47s 30ms/step - loss: 17.5267\n",
            "Epoch 3/5\n",
            "1587/1587 [==============================] - 48s 30ms/step - loss: 17.4649\n",
            "Epoch 4/5\n",
            "1587/1587 [==============================] - 47s 30ms/step - loss: 17.4151\n",
            "Epoch 5/5\n",
            "1587/1587 [==============================] - 47s 30ms/step - loss: 17.4041\n"
          ]
        }
      ]
    },
    {
      "cell_type": "code",
      "source": [
        "\n",
        "# summarize scores\n",
        "summarize_scores('lstm', score, scores)\n",
        "# plot scores\n",
        "days = ['1h', '2h', '3h', '4h', '5h', '6h', '7h']\n",
        "pyplot.plot(days, scores, marker='o', label='lstm')\n",
        "pyplot.show()"
      ],
      "metadata": {
        "colab": {
          "base_uri": "https://localhost:8080/",
          "height": 282
        },
        "id": "yKzlpJl-LzNo",
        "outputId": "d75d09c6-2fb4-4063-d68f-8d0cd017731f"
      },
      "execution_count": null,
      "outputs": [
        {
          "output_type": "stream",
          "name": "stdout",
          "text": [
            "lstm: [20.789] 8.4, 13.6, 18.8, 19.3, 19.2, 17.0, 16.2\n"
          ]
        },
        {
          "output_type": "display_data",
          "data": {
            "text/plain": [
              "<Figure size 432x288 with 1 Axes>"
            ],
            "image/png": "[encoded data removed]"
          },
          "metadata": {
            "needs_background": "light"
          }
        }
      ]
    }
  ]
}