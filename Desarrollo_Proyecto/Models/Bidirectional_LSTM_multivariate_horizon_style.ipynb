{
  "nbformat": 4,
  "nbformat_minor": 0,
  "metadata": {
    "colab": {
      "name": "Copia de Bidirectional LSTM multivariate horizon style.ipynb",
      "provenance": [],
      "collapsed_sections": []
    },
    "kernelspec": {
      "name": "python3",
      "display_name": "Python 3"
    },
    "language_info": {
      "name": "python"
    },
    "accelerator": "GPU"
  },
  "cells": [
    {
      "cell_type": "code",
      "source": [
        "!pip install influxdb"
      ],
      "metadata": {
        "colab": {
          "base_uri": "https://localhost:8080/"
        },
        "id": "_iFDLSdqIqmx",
        "outputId": "9dbbd53a-0468-48f3-907e-0c9c40c4d3d7"
      },
      "execution_count": null,
      "outputs": [
        {
          "output_type": "stream",
          "name": "stdout",
          "text": [
            "Collecting influxdb\n",
            "  Downloading influxdb-5.3.1-py2.py3-none-any.whl (77 kB)\n",
            "\u001b[K     |████████████████████████████████| 77 kB 2.5 MB/s \n",
            "\u001b[?25hRequirement already satisfied: requests>=2.17.0 in /usr/local/lib/python3.7/dist-packages (from influxdb) (2.23.0)\n",
            "Requirement already satisfied: msgpack in /usr/local/lib/python3.7/dist-packages (from influxdb) (1.0.3)\n",
            "Requirement already satisfied: pytz in /usr/local/lib/python3.7/dist-packages (from influxdb) (2018.9)\n",
            "Requirement already satisfied: python-dateutil>=2.6.0 in /usr/local/lib/python3.7/dist-packages (from influxdb) (2.8.2)\n",
            "Requirement already satisfied: six>=1.10.0 in /usr/local/lib/python3.7/dist-packages (from influxdb) (1.15.0)\n",
            "Requirement already satisfied: certifi>=2017.4.17 in /usr/local/lib/python3.7/dist-packages (from requests>=2.17.0->influxdb) (2021.10.8)\n",
            "Requirement already satisfied: chardet<4,>=3.0.2 in /usr/local/lib/python3.7/dist-packages (from requests>=2.17.0->influxdb) (3.0.4)\n",
            "Requirement already satisfied: urllib3!=1.25.0,!=1.25.1,<1.26,>=1.21.1 in /usr/local/lib/python3.7/dist-packages (from requests>=2.17.0->influxdb) (1.24.3)\n",
            "Requirement already satisfied: idna<3,>=2.5 in /usr/local/lib/python3.7/dist-packages (from requests>=2.17.0->influxdb) (2.10)\n",
            "Installing collected packages: influxdb\n",
            "Successfully installed influxdb-5.3.1\n"
          ]
        }
      ]
    },
    {
      "cell_type": "code",
      "source": [
        "import pandas as pd\n",
        "import numpy as np\n",
        "# import matplotlib.pyplot as plt\n",
        "import plotly.express as px # to plot the time series plot\n",
        "from sklearn import metrics # for the evalution\n",
        "from sklearn.preprocessing import LabelEncoder,MinMaxScaler\n",
        "\n",
        "import tensorflow as tf\n",
        "\n",
        "\n",
        "from influxdb import DataFrameClient"
      ],
      "metadata": {
        "id": "rfNZASGGIsTa"
      },
      "execution_count": null,
      "outputs": []
    },
    {
      "cell_type": "code",
      "source": [
        "import matplotlib.pyplot as plt"
      ],
      "metadata": {
        "id": "Xj9LSvNSQaA1"
      },
      "execution_count": null,
      "outputs": []
    },
    {
      "cell_type": "code",
      "source": [
        "dbhost = '34.77.9.141'\n",
        "dbport = 8086\n",
        "dbuser = 'root'\n",
        "dbpasswd = '12345678'\n",
        "dbname = 'registros_contaminacion'\n",
        "\n",
        "client = DataFrameClient(dbhost, dbport, dbuser, dbpasswd, dbname)\n",
        "\n",
        "df = client.query('select * from ESTACION_8')['ESTACION_8']"
      ],
      "metadata": {
        "id": "-djPYCxKIxQE"
      },
      "execution_count": null,
      "outputs": []
    },
    {
      "cell_type": "code",
      "source": [
        "df = df[[\"NO2\", \"SO2\", \"PM10\", \"PM25\", \"O3\"]] # Categoria\n",
        "df"
      ],
      "metadata": {
        "colab": {
          "base_uri": "https://localhost:8080/",
          "height": 424
        },
        "id": "8o7t2gCQIzBT",
        "outputId": "68cddab4-57fc-4658-c3e7-ec79131bfcb1"
      },
      "execution_count": null,
      "outputs": [
        {
          "output_type": "execute_result",
          "data": {
            "text/plain": [
              "                            NO2   SO2  PM10  PM25     O3\n",
              "2001-01-01 00:00:00+00:00  67.0  26.0  32.0   NaN    7.0\n",
              "2001-01-01 01:00:00+00:00  71.0  21.0  41.0   NaN    7.0\n",
              "2001-01-01 02:00:00+00:00  73.0  22.0  50.0   NaN    7.0\n",
              "2001-01-01 03:00:00+00:00  75.0  19.0  55.0   NaN    7.0\n",
              "2001-01-01 04:00:00+00:00  67.0  14.0  42.0   NaN    8.0\n",
              "...                         ...   ...   ...   ...    ...\n",
              "2022-04-18 12:00:00+00:00  29.0   4.0  19.0   8.0   70.0\n",
              "2022-04-18 13:00:00+00:00   NaN   NaN  15.0   4.0    NaN\n",
              "2022-04-18 14:00:00+00:00   NaN   NaN  10.0   4.0    NaN\n",
              "2022-04-18 15:00:00+00:00  22.0   4.0  10.0   4.0  100.0\n",
              "2022-04-18 16:00:00+00:00  22.0   4.0  25.0  15.0  102.0\n",
              "\n",
              "[172739 rows x 5 columns]"
            ],
            "text/html": [
              "\n",
              "  <div id=\"df-e461aa0a-97ee-4df0-a02c-6c3c9bbcbd5d\">\n",
              "    <div class=\"colab-df-container\">\n",
              "      <div>\n",
              "<style scoped>\n",
              "    .dataframe tbody tr th:only-of-type {\n",
              "        vertical-align: middle;\n",
              "    }\n",
              "\n",
              "    .dataframe tbody tr th {\n",
              "        vertical-align: top;\n",
              "    }\n",
              "\n",
              "    .dataframe thead th {\n",
              "        text-align: right;\n",
              "    }\n",
              "</style>\n",
              "<table border=\"1\" class=\"dataframe\">\n",
              "  <thead>\n",
              "    <tr style=\"text-align: right;\">\n",
              "      <th></th>\n",
              "      <th>NO2</th>\n",
              "      <th>SO2</th>\n",
              "      <th>PM10</th>\n",
              "      <th>PM25</th>\n",
              "      <th>O3</th>\n",
              "    </tr>\n",
              "  </thead>\n",
              "  <tbody>\n",
              "    <tr>\n",
              "      <th>2001-01-01 00:00:00+00:00</th>\n",
              "      <td>67.0</td>\n",
              "      <td>26.0</td>\n",
              "      <td>32.0</td>\n",
              "      <td>NaN</td>\n",
              "      <td>7.0</td>\n",
              "    </tr>\n",
              "    <tr>\n",
              "      <th>2001-01-01 01:00:00+00:00</th>\n",
              "      <td>71.0</td>\n",
              "      <td>21.0</td>\n",
              "      <td>41.0</td>\n",
              "      <td>NaN</td>\n",
              "      <td>7.0</td>\n",
              "    </tr>\n",
              "    <tr>\n",
              "      <th>2001-01-01 02:00:00+00:00</th>\n",
              "      <td>73.0</td>\n",
              "      <td>22.0</td>\n",
              "      <td>50.0</td>\n",
              "      <td>NaN</td>\n",
              "      <td>7.0</td>\n",
              "    </tr>\n",
              "    <tr>\n",
              "      <th>2001-01-01 03:00:00+00:00</th>\n",
              "      <td>75.0</td>\n",
              "      <td>19.0</td>\n",
              "      <td>55.0</td>\n",
              "      <td>NaN</td>\n",
              "      <td>7.0</td>\n",
              "    </tr>\n",
              "    <tr>\n",
              "      <th>2001-01-01 04:00:00+00:00</th>\n",
              "      <td>67.0</td>\n",
              "      <td>14.0</td>\n",
              "      <td>42.0</td>\n",
              "      <td>NaN</td>\n",
              "      <td>8.0</td>\n",
              "    </tr>\n",
              "    <tr>\n",
              "      <th>...</th>\n",
              "      <td>...</td>\n",
              "      <td>...</td>\n",
              "      <td>...</td>\n",
              "      <td>...</td>\n",
              "      <td>...</td>\n",
              "    </tr>\n",
              "    <tr>\n",
              "      <th>2022-04-18 12:00:00+00:00</th>\n",
              "      <td>29.0</td>\n",
              "      <td>4.0</td>\n",
              "      <td>19.0</td>\n",
              "      <td>8.0</td>\n",
              "      <td>70.0</td>\n",
              "    </tr>\n",
              "    <tr>\n",
              "      <th>2022-04-18 13:00:00+00:00</th>\n",
              "      <td>NaN</td>\n",
              "      <td>NaN</td>\n",
              "      <td>15.0</td>\n",
              "      <td>4.0</td>\n",
              "      <td>NaN</td>\n",
              "    </tr>\n",
              "    <tr>\n",
              "      <th>2022-04-18 14:00:00+00:00</th>\n",
              "      <td>NaN</td>\n",
              "      <td>NaN</td>\n",
              "      <td>10.0</td>\n",
              "      <td>4.0</td>\n",
              "      <td>NaN</td>\n",
              "    </tr>\n",
              "    <tr>\n",
              "      <th>2022-04-18 15:00:00+00:00</th>\n",
              "      <td>22.0</td>\n",
              "      <td>4.0</td>\n",
              "      <td>10.0</td>\n",
              "      <td>4.0</td>\n",
              "      <td>100.0</td>\n",
              "    </tr>\n",
              "    <tr>\n",
              "      <th>2022-04-18 16:00:00+00:00</th>\n",
              "      <td>22.0</td>\n",
              "      <td>4.0</td>\n",
              "      <td>25.0</td>\n",
              "      <td>15.0</td>\n",
              "      <td>102.0</td>\n",
              "    </tr>\n",
              "  </tbody>\n",
              "</table>\n",
              "<p>172739 rows × 5 columns</p>\n",
              "</div>\n",
              "      <button class=\"colab-df-convert\" onclick=\"convertToInteractive('df-e461aa0a-97ee-4df0-a02c-6c3c9bbcbd5d')\"\n",
              "              title=\"Convert this dataframe to an interactive table.\"\n",
              "              style=\"display:none;\">\n",
              "        \n",
              "  <svg xmlns=\"http://www.w3.org/2000/svg\" height=\"24px\"viewBox=\"0 0 24 24\"\n",
              "       width=\"24px\">\n",
              "    <path d=\"M0 0h24v24H0V0z\" fill=\"none\"/>\n",
              "    <path d=\"M18.56 5.44l.94 2.06.94-2.06 2.06-.94-2.06-.94-.94-2.06-.94 2.06-2.06.94zm-11 1L8.5 8.5l.94-2.06 2.06-.94-2.06-.94L8.5 2.5l-.94 2.06-2.06.94zm10 10l.94 2.06.94-2.06 2.06-.94-2.06-.94-.94-2.06-.94 2.06-2.06.94z\"/><path d=\"M17.41 7.96l-1.37-1.37c-.4-.4-.92-.59-1.43-.59-.52 0-1.04.2-1.43.59L10.3 9.45l-7.72 7.72c-.78.78-.78 2.05 0 2.83L4 21.41c.39.39.9.59 1.41.59.51 0 1.02-.2 1.41-.59l7.78-7.78 2.81-2.81c.8-.78.8-2.07 0-2.86zM5.41 20L4 18.59l7.72-7.72 1.47 1.35L5.41 20z\"/>\n",
              "  </svg>\n",
              "      </button>\n",
              "      \n",
              "  <style>\n",
              "    .colab-df-container {\n",
              "      display:flex;\n",
              "      flex-wrap:wrap;\n",
              "      gap: 12px;\n",
              "    }\n",
              "\n",
              "    .colab-df-convert {\n",
              "      background-color: #E8F0FE;\n",
              "      border: none;\n",
              "      border-radius: 50%;\n",
              "      cursor: pointer;\n",
              "      display: none;\n",
              "      fill: #1967D2;\n",
              "      height: 32px;\n",
              "      padding: 0 0 0 0;\n",
              "      width: 32px;\n",
              "    }\n",
              "\n",
              "    .colab-df-convert:hover {\n",
              "      background-color: #E2EBFA;\n",
              "      box-shadow: 0px 1px 2px rgba(60, 64, 67, 0.3), 0px 1px 3px 1px rgba(60, 64, 67, 0.15);\n",
              "      fill: #174EA6;\n",
              "    }\n",
              "\n",
              "    [theme=dark] .colab-df-convert {\n",
              "      background-color: #3B4455;\n",
              "      fill: #D2E3FC;\n",
              "    }\n",
              "\n",
              "    [theme=dark] .colab-df-convert:hover {\n",
              "      background-color: #434B5C;\n",
              "      box-shadow: 0px 1px 3px 1px rgba(0, 0, 0, 0.15);\n",
              "      filter: drop-shadow(0px 1px 2px rgba(0, 0, 0, 0.3));\n",
              "      fill: #FFFFFF;\n",
              "    }\n",
              "  </style>\n",
              "\n",
              "      <script>\n",
              "        const buttonEl =\n",
              "          document.querySelector('#df-e461aa0a-97ee-4df0-a02c-6c3c9bbcbd5d button.colab-df-convert');\n",
              "        buttonEl.style.display =\n",
              "          google.colab.kernel.accessAllowed ? 'block' : 'none';\n",
              "\n",
              "        async function convertToInteractive(key) {\n",
              "          const element = document.querySelector('#df-e461aa0a-97ee-4df0-a02c-6c3c9bbcbd5d');\n",
              "          const dataTable =\n",
              "            await google.colab.kernel.invokeFunction('convertToInteractive',\n",
              "                                                     [key], {});\n",
              "          if (!dataTable) return;\n",
              "\n",
              "          const docLinkHtml = 'Like what you see? Visit the ' +\n",
              "            '<a target=\"_blank\" href=https://colab.research.google.com/notebooks/data_table.ipynb>data table notebook</a>'\n",
              "            + ' to learn more about interactive tables.';\n",
              "          element.innerHTML = '';\n",
              "          dataTable['output_type'] = 'display_data';\n",
              "          await google.colab.output.renderOutput(dataTable, element);\n",
              "          const docLink = document.createElement('div');\n",
              "          docLink.innerHTML = docLinkHtml;\n",
              "          element.appendChild(docLink);\n",
              "        }\n",
              "      </script>\n",
              "    </div>\n",
              "  </div>\n",
              "  "
            ]
          },
          "metadata": {},
          "execution_count": 74
        }
      ]
    },
    {
      "cell_type": "code",
      "source": [
        "def clean_data(series):\n",
        "    \"\"\"Fills missing values. \n",
        "    \n",
        "        Interpolate missing values with a linear approximation.\n",
        "    \"\"\"\n",
        "    series_filled = series.interpolate(method='linear')\n",
        "        \n",
        "    return series_filled\n",
        "\n",
        "  \n",
        "#df = clean_data(df)\n",
        "df = df.dropna() # drop NaN\n",
        "\n",
        "df_features = df.copy()\n",
        "\n",
        "df_features['Hour'] = df.index.hour\n",
        "df_features['Day'] = df.index.day\n",
        "df_features['Month_Of_Year'] = df.index.month\n",
        "df_features['Year'] = df.index.year\n",
        "\n",
        "df_features"
      ],
      "metadata": {
        "colab": {
          "base_uri": "https://localhost:8080/",
          "height": 424
        },
        "id": "mjm5n_rTKIAb",
        "outputId": "a00602cb-bf83-439f-f328-ba58a37bdfb8"
      },
      "execution_count": null,
      "outputs": [
        {
          "output_type": "execute_result",
          "data": {
            "text/plain": [
              "                            NO2   SO2  PM10  PM25     O3  Hour  Day  \\\n",
              "2009-12-30 08:00:00+00:00  40.0   8.0  22.0   7.0   27.0     8   30   \n",
              "2009-12-30 09:00:00+00:00  52.0  10.0  35.0  14.0   24.0     9   30   \n",
              "2009-12-30 10:00:00+00:00  50.0  10.0  19.0  12.0   28.0    10   30   \n",
              "2009-12-30 11:00:00+00:00  45.0  10.0  22.0   8.0   38.0    11   30   \n",
              "2009-12-30 12:00:00+00:00  38.0  10.0   5.0   1.0   49.0    12   30   \n",
              "...                         ...   ...   ...   ...    ...   ...  ...   \n",
              "2022-04-18 10:00:00+00:00  31.0   4.0  14.0   9.0   58.0    10   18   \n",
              "2022-04-18 11:00:00+00:00  31.0   4.0  12.0   6.0   62.0    11   18   \n",
              "2022-04-18 12:00:00+00:00  29.0   4.0  19.0   8.0   70.0    12   18   \n",
              "2022-04-18 15:00:00+00:00  22.0   4.0  10.0   4.0  100.0    15   18   \n",
              "2022-04-18 16:00:00+00:00  22.0   4.0  25.0  15.0  102.0    16   18   \n",
              "\n",
              "                           Month_Of_Year  Year  \n",
              "2009-12-30 08:00:00+00:00             12  2009  \n",
              "2009-12-30 09:00:00+00:00             12  2009  \n",
              "2009-12-30 10:00:00+00:00             12  2009  \n",
              "2009-12-30 11:00:00+00:00             12  2009  \n",
              "2009-12-30 12:00:00+00:00             12  2009  \n",
              "...                                  ...   ...  \n",
              "2022-04-18 10:00:00+00:00              4  2022  \n",
              "2022-04-18 11:00:00+00:00              4  2022  \n",
              "2022-04-18 12:00:00+00:00              4  2022  \n",
              "2022-04-18 15:00:00+00:00              4  2022  \n",
              "2022-04-18 16:00:00+00:00              4  2022  \n",
              "\n",
              "[102574 rows x 9 columns]"
            ],
            "text/html": [
              "\n",
              "  <div id=\"df-39ed9ab4-d021-486a-935a-54b043f33bcb\">\n",
              "    <div class=\"colab-df-container\">\n",
              "      <div>\n",
              "<style scoped>\n",
              "    .dataframe tbody tr th:only-of-type {\n",
              "        vertical-align: middle;\n",
              "    }\n",
              "\n",
              "    .dataframe tbody tr th {\n",
              "        vertical-align: top;\n",
              "    }\n",
              "\n",
              "    .dataframe thead th {\n",
              "        text-align: right;\n",
              "    }\n",
              "</style>\n",
              "<table border=\"1\" class=\"dataframe\">\n",
              "  <thead>\n",
              "    <tr style=\"text-align: right;\">\n",
              "      <th></th>\n",
              "      <th>NO2</th>\n",
              "      <th>SO2</th>\n",
              "      <th>PM10</th>\n",
              "      <th>PM25</th>\n",
              "      <th>O3</th>\n",
              "      <th>Hour</th>\n",
              "      <th>Day</th>\n",
              "      <th>Month_Of_Year</th>\n",
              "      <th>Year</th>\n",
              "    </tr>\n",
              "  </thead>\n",
              "  <tbody>\n",
              "    <tr>\n",
              "      <th>2009-12-30 08:00:00+00:00</th>\n",
              "      <td>40.0</td>\n",
              "      <td>8.0</td>\n",
              "      <td>22.0</td>\n",
              "      <td>7.0</td>\n",
              "      <td>27.0</td>\n",
              "      <td>8</td>\n",
              "      <td>30</td>\n",
              "      <td>12</td>\n",
              "      <td>2009</td>\n",
              "    </tr>\n",
              "    <tr>\n",
              "      <th>2009-12-30 09:00:00+00:00</th>\n",
              "      <td>52.0</td>\n",
              "      <td>10.0</td>\n",
              "      <td>35.0</td>\n",
              "      <td>14.0</td>\n",
              "      <td>24.0</td>\n",
              "      <td>9</td>\n",
              "      <td>30</td>\n",
              "      <td>12</td>\n",
              "      <td>2009</td>\n",
              "    </tr>\n",
              "    <tr>\n",
              "      <th>2009-12-30 10:00:00+00:00</th>\n",
              "      <td>50.0</td>\n",
              "      <td>10.0</td>\n",
              "      <td>19.0</td>\n",
              "      <td>12.0</td>\n",
              "      <td>28.0</td>\n",
              "      <td>10</td>\n",
              "      <td>30</td>\n",
              "      <td>12</td>\n",
              "      <td>2009</td>\n",
              "    </tr>\n",
              "    <tr>\n",
              "      <th>2009-12-30 11:00:00+00:00</th>\n",
              "      <td>45.0</td>\n",
              "      <td>10.0</td>\n",
              "      <td>22.0</td>\n",
              "      <td>8.0</td>\n",
              "      <td>38.0</td>\n",
              "      <td>11</td>\n",
              "      <td>30</td>\n",
              "      <td>12</td>\n",
              "      <td>2009</td>\n",
              "    </tr>\n",
              "    <tr>\n",
              "      <th>2009-12-30 12:00:00+00:00</th>\n",
              "      <td>38.0</td>\n",
              "      <td>10.0</td>\n",
              "      <td>5.0</td>\n",
              "      <td>1.0</td>\n",
              "      <td>49.0</td>\n",
              "      <td>12</td>\n",
              "      <td>30</td>\n",
              "      <td>12</td>\n",
              "      <td>2009</td>\n",
              "    </tr>\n",
              "    <tr>\n",
              "      <th>...</th>\n",
              "      <td>...</td>\n",
              "      <td>...</td>\n",
              "      <td>...</td>\n",
              "      <td>...</td>\n",
              "      <td>...</td>\n",
              "      <td>...</td>\n",
              "      <td>...</td>\n",
              "      <td>...</td>\n",
              "      <td>...</td>\n",
              "    </tr>\n",
              "    <tr>\n",
              "      <th>2022-04-18 10:00:00+00:00</th>\n",
              "      <td>31.0</td>\n",
              "      <td>4.0</td>\n",
              "      <td>14.0</td>\n",
              "      <td>9.0</td>\n",
              "      <td>58.0</td>\n",
              "      <td>10</td>\n",
              "      <td>18</td>\n",
              "      <td>4</td>\n",
              "      <td>2022</td>\n",
              "    </tr>\n",
              "    <tr>\n",
              "      <th>2022-04-18 11:00:00+00:00</th>\n",
              "      <td>31.0</td>\n",
              "      <td>4.0</td>\n",
              "      <td>12.0</td>\n",
              "      <td>6.0</td>\n",
              "      <td>62.0</td>\n",
              "      <td>11</td>\n",
              "      <td>18</td>\n",
              "      <td>4</td>\n",
              "      <td>2022</td>\n",
              "    </tr>\n",
              "    <tr>\n",
              "      <th>2022-04-18 12:00:00+00:00</th>\n",
              "      <td>29.0</td>\n",
              "      <td>4.0</td>\n",
              "      <td>19.0</td>\n",
              "      <td>8.0</td>\n",
              "      <td>70.0</td>\n",
              "      <td>12</td>\n",
              "      <td>18</td>\n",
              "      <td>4</td>\n",
              "      <td>2022</td>\n",
              "    </tr>\n",
              "    <tr>\n",
              "      <th>2022-04-18 15:00:00+00:00</th>\n",
              "      <td>22.0</td>\n",
              "      <td>4.0</td>\n",
              "      <td>10.0</td>\n",
              "      <td>4.0</td>\n",
              "      <td>100.0</td>\n",
              "      <td>15</td>\n",
              "      <td>18</td>\n",
              "      <td>4</td>\n",
              "      <td>2022</td>\n",
              "    </tr>\n",
              "    <tr>\n",
              "      <th>2022-04-18 16:00:00+00:00</th>\n",
              "      <td>22.0</td>\n",
              "      <td>4.0</td>\n",
              "      <td>25.0</td>\n",
              "      <td>15.0</td>\n",
              "      <td>102.0</td>\n",
              "      <td>16</td>\n",
              "      <td>18</td>\n",
              "      <td>4</td>\n",
              "      <td>2022</td>\n",
              "    </tr>\n",
              "  </tbody>\n",
              "</table>\n",
              "<p>102574 rows × 9 columns</p>\n",
              "</div>\n",
              "      <button class=\"colab-df-convert\" onclick=\"convertToInteractive('df-39ed9ab4-d021-486a-935a-54b043f33bcb')\"\n",
              "              title=\"Convert this dataframe to an interactive table.\"\n",
              "              style=\"display:none;\">\n",
              "        \n",
              "  <svg xmlns=\"http://www.w3.org/2000/svg\" height=\"24px\"viewBox=\"0 0 24 24\"\n",
              "       width=\"24px\">\n",
              "    <path d=\"M0 0h24v24H0V0z\" fill=\"none\"/>\n",
              "    <path d=\"M18.56 5.44l.94 2.06.94-2.06 2.06-.94-2.06-.94-.94-2.06-.94 2.06-2.06.94zm-11 1L8.5 8.5l.94-2.06 2.06-.94-2.06-.94L8.5 2.5l-.94 2.06-2.06.94zm10 10l.94 2.06.94-2.06 2.06-.94-2.06-.94-.94-2.06-.94 2.06-2.06.94z\"/><path d=\"M17.41 7.96l-1.37-1.37c-.4-.4-.92-.59-1.43-.59-.52 0-1.04.2-1.43.59L10.3 9.45l-7.72 7.72c-.78.78-.78 2.05 0 2.83L4 21.41c.39.39.9.59 1.41.59.51 0 1.02-.2 1.41-.59l7.78-7.78 2.81-2.81c.8-.78.8-2.07 0-2.86zM5.41 20L4 18.59l7.72-7.72 1.47 1.35L5.41 20z\"/>\n",
              "  </svg>\n",
              "      </button>\n",
              "      \n",
              "  <style>\n",
              "    .colab-df-container {\n",
              "      display:flex;\n",
              "      flex-wrap:wrap;\n",
              "      gap: 12px;\n",
              "    }\n",
              "\n",
              "    .colab-df-convert {\n",
              "      background-color: #E8F0FE;\n",
              "      border: none;\n",
              "      border-radius: 50%;\n",
              "      cursor: pointer;\n",
              "      display: none;\n",
              "      fill: #1967D2;\n",
              "      height: 32px;\n",
              "      padding: 0 0 0 0;\n",
              "      width: 32px;\n",
              "    }\n",
              "\n",
              "    .colab-df-convert:hover {\n",
              "      background-color: #E2EBFA;\n",
              "      box-shadow: 0px 1px 2px rgba(60, 64, 67, 0.3), 0px 1px 3px 1px rgba(60, 64, 67, 0.15);\n",
              "      fill: #174EA6;\n",
              "    }\n",
              "\n",
              "    [theme=dark] .colab-df-convert {\n",
              "      background-color: #3B4455;\n",
              "      fill: #D2E3FC;\n",
              "    }\n",
              "\n",
              "    [theme=dark] .colab-df-convert:hover {\n",
              "      background-color: #434B5C;\n",
              "      box-shadow: 0px 1px 3px 1px rgba(0, 0, 0, 0.15);\n",
              "      filter: drop-shadow(0px 1px 2px rgba(0, 0, 0, 0.3));\n",
              "      fill: #FFFFFF;\n",
              "    }\n",
              "  </style>\n",
              "\n",
              "      <script>\n",
              "        const buttonEl =\n",
              "          document.querySelector('#df-39ed9ab4-d021-486a-935a-54b043f33bcb button.colab-df-convert');\n",
              "        buttonEl.style.display =\n",
              "          google.colab.kernel.accessAllowed ? 'block' : 'none';\n",
              "\n",
              "        async function convertToInteractive(key) {\n",
              "          const element = document.querySelector('#df-39ed9ab4-d021-486a-935a-54b043f33bcb');\n",
              "          const dataTable =\n",
              "            await google.colab.kernel.invokeFunction('convertToInteractive',\n",
              "                                                     [key], {});\n",
              "          if (!dataTable) return;\n",
              "\n",
              "          const docLinkHtml = 'Like what you see? Visit the ' +\n",
              "            '<a target=\"_blank\" href=https://colab.research.google.com/notebooks/data_table.ipynb>data table notebook</a>'\n",
              "            + ' to learn more about interactive tables.';\n",
              "          element.innerHTML = '';\n",
              "          dataTable['output_type'] = 'display_data';\n",
              "          await google.colab.output.renderOutput(dataTable, element);\n",
              "          const docLink = document.createElement('div');\n",
              "          docLink.innerHTML = docLinkHtml;\n",
              "          element.appendChild(docLink);\n",
              "        }\n",
              "      </script>\n",
              "    </div>\n",
              "  </div>\n",
              "  "
            ]
          },
          "metadata": {},
          "execution_count": 75
        }
      ]
    },
    {
      "cell_type": "code",
      "source": [
        "df_aux = df_features.copy()\n",
        "\n",
        "validate = df_aux[['NO2', 'SO2', 'PM10', 'PM25', 'O3', 'Hour', 'Day', 'Month_Of_Year', 'Year']].tail(10)\n",
        "validate\n",
        "\n",
        "df_features.drop(df_features.tail(10).index,inplace=True)"
      ],
      "metadata": {
        "id": "CshSeXH3Kc7u"
      },
      "execution_count": null,
      "outputs": []
    },
    {
      "cell_type": "code",
      "metadata": {
        "id": "F4ea1vkSiQ0Z"
      },
      "source": [
        "def custom_ts_multi_data_prep(dataset, target, start, end, window, horizon):\n",
        "    X = []\n",
        "    y = []\n",
        "    start = start + window\n",
        "    if end is None:\n",
        "        end = len(dataset) - horizon\n",
        "\n",
        "    for i in range(start, end):\n",
        "        indices = range(i-window, i)\n",
        "        X.append(dataset[indices])\n",
        "\n",
        "        indicey = range(i+1, i+1+horizon)\n",
        "        y.append(target[indicey])\n",
        "    return np.array(X), np.array(y)"
      ],
      "execution_count": null,
      "outputs": []
    },
    {
      "cell_type": "code",
      "metadata": {
        "id": "zhNfdEJ20lxm"
      },
      "source": [
        "X_scaler = MinMaxScaler()\n",
        "Y_scaler = MinMaxScaler()\n",
        "X_data = X_scaler.fit_transform(df_features[['NO2', 'SO2', 'PM10', 'PM25', 'O3', 'Hour', 'Day', 'Month_Of_Year', 'Year']])\n",
        "Y_data = Y_scaler.fit_transform(df_features[['NO2']])"
      ],
      "execution_count": null,
      "outputs": []
    },
    {
      "cell_type": "code",
      "metadata": {
        "id": "z3Tni9RsnBt3"
      },
      "source": [
        "hist_window = 24\n",
        "horizon = 10\n",
        "TRAIN_SPLIT = 80000 #30000 \n",
        "x_train, y_train = custom_ts_multi_data_prep(X_data, Y_data, 0, TRAIN_SPLIT, hist_window, horizon)\n",
        "x_vali, y_vali = custom_ts_multi_data_prep(X_data, Y_data, TRAIN_SPLIT, None, hist_window, horizon)"
      ],
      "execution_count": null,
      "outputs": []
    },
    {
      "cell_type": "code",
      "metadata": {
        "colab": {
          "base_uri": "https://localhost:8080/"
        },
        "id": "aqStr1nRv7Ie",
        "outputId": "ee2fc060-8744-4a70-b9fd-a152a10817b1"
      },
      "source": [
        "x_train"
      ],
      "execution_count": null,
      "outputs": [
        {
          "output_type": "execute_result",
          "data": {
            "text/plain": [
              "array([[[0.09863014, 0.11864407, 0.05737705, ..., 0.96666667,\n",
              "         1.        , 0.        ],\n",
              "        [0.13150685, 0.15254237, 0.09289617, ..., 0.96666667,\n",
              "         1.        , 0.        ],\n",
              "        [0.1260274 , 0.15254237, 0.04918033, ..., 0.96666667,\n",
              "         1.        , 0.        ],\n",
              "        ...,\n",
              "        [0.06849315, 0.11864407, 0.01092896, ..., 1.        ,\n",
              "         1.        , 0.        ],\n",
              "        [0.08219178, 0.13559322, 0.02459016, ..., 1.        ,\n",
              "         1.        , 0.        ],\n",
              "        [0.09041096, 0.13559322, 0.03551913, ..., 1.        ,\n",
              "         1.        , 0.        ]],\n",
              "\n",
              "       [[0.13150685, 0.15254237, 0.09289617, ..., 0.96666667,\n",
              "         1.        , 0.        ],\n",
              "        [0.1260274 , 0.15254237, 0.04918033, ..., 0.96666667,\n",
              "         1.        , 0.        ],\n",
              "        [0.11232877, 0.15254237, 0.05737705, ..., 0.96666667,\n",
              "         1.        , 0.        ],\n",
              "        ...,\n",
              "        [0.08219178, 0.13559322, 0.02459016, ..., 1.        ,\n",
              "         1.        , 0.        ],\n",
              "        [0.09041096, 0.13559322, 0.03551913, ..., 1.        ,\n",
              "         1.        , 0.        ],\n",
              "        [0.09315068, 0.13559322, 0.00546448, ..., 1.        ,\n",
              "         1.        , 0.        ]],\n",
              "\n",
              "       [[0.1260274 , 0.15254237, 0.04918033, ..., 0.96666667,\n",
              "         1.        , 0.        ],\n",
              "        [0.11232877, 0.15254237, 0.05737705, ..., 0.96666667,\n",
              "         1.        , 0.        ],\n",
              "        [0.09315068, 0.15254237, 0.01092896, ..., 0.96666667,\n",
              "         1.        , 0.        ],\n",
              "        ...,\n",
              "        [0.09041096, 0.13559322, 0.03551913, ..., 1.        ,\n",
              "         1.        , 0.        ],\n",
              "        [0.09315068, 0.13559322, 0.00546448, ..., 1.        ,\n",
              "         1.        , 0.        ],\n",
              "        [0.07945205, 0.13559322, 0.04098361, ..., 1.        ,\n",
              "         1.        , 0.        ]],\n",
              "\n",
              "       ...,\n",
              "\n",
              "       [[0.0739726 , 0.13559322, 0.02459016, ..., 0.9       ,\n",
              "         0.36363636, 0.76923077],\n",
              "        [0.10958904, 0.13559322, 0.03551913, ..., 0.9       ,\n",
              "         0.36363636, 0.76923077],\n",
              "        [0.11780822, 0.15254237, 0.02459016, ..., 0.9       ,\n",
              "         0.36363636, 0.76923077],\n",
              "        ...,\n",
              "        [0.10136986, 0.13559322, 0.0273224 , ..., 0.93333333,\n",
              "         0.36363636, 0.76923077],\n",
              "        [0.10136986, 0.13559322, 0.03278689, ..., 0.93333333,\n",
              "         0.36363636, 0.76923077],\n",
              "        [0.08219178, 0.13559322, 0.03551913, ..., 0.93333333,\n",
              "         0.36363636, 0.76923077]],\n",
              "\n",
              "       [[0.10958904, 0.13559322, 0.03551913, ..., 0.9       ,\n",
              "         0.36363636, 0.76923077],\n",
              "        [0.11780822, 0.15254237, 0.02459016, ..., 0.9       ,\n",
              "         0.36363636, 0.76923077],\n",
              "        [0.11780822, 0.15254237, 0.03551913, ..., 0.9       ,\n",
              "         0.36363636, 0.76923077],\n",
              "        ...,\n",
              "        [0.10136986, 0.13559322, 0.03278689, ..., 0.93333333,\n",
              "         0.36363636, 0.76923077],\n",
              "        [0.08219178, 0.13559322, 0.03551913, ..., 0.93333333,\n",
              "         0.36363636, 0.76923077],\n",
              "        [0.06575342, 0.13559322, 0.03551913, ..., 0.93333333,\n",
              "         0.36363636, 0.76923077]],\n",
              "\n",
              "       [[0.11780822, 0.15254237, 0.02459016, ..., 0.9       ,\n",
              "         0.36363636, 0.76923077],\n",
              "        [0.11780822, 0.15254237, 0.03551913, ..., 0.9       ,\n",
              "         0.36363636, 0.76923077],\n",
              "        [0.11232877, 0.15254237, 0.03551913, ..., 0.9       ,\n",
              "         0.36363636, 0.76923077],\n",
              "        ...,\n",
              "        [0.08219178, 0.13559322, 0.03551913, ..., 0.93333333,\n",
              "         0.36363636, 0.76923077],\n",
              "        [0.06575342, 0.13559322, 0.03551913, ..., 0.93333333,\n",
              "         0.36363636, 0.76923077],\n",
              "        [0.08493151, 0.13559322, 0.04098361, ..., 0.93333333,\n",
              "         0.36363636, 0.76923077]]])"
            ]
          },
          "metadata": {},
          "execution_count": 82
        }
      ]
    },
    {
      "cell_type": "code",
      "metadata": {
        "colab": {
          "base_uri": "https://localhost:8080/"
        },
        "id": "TboDAisnwNr4",
        "outputId": "2d547ed0-5f0a-4cf0-abb2-6c07d7b35179"
      },
      "source": [
        "print ('Multiple window of past history\\n')\n",
        "print(x_train[0])\n",
        "print ('\\n Target horizon\\n')\n",
        "print (y_train[0])"
      ],
      "execution_count": null,
      "outputs": [
        {
          "output_type": "stream",
          "name": "stdout",
          "text": [
            "Multiple window of past history\n",
            "\n",
            "[[0.09863014 0.11864407 0.05737705 0.03255814 0.13567839 0.34782609\n",
            "  0.96666667 1.         0.        ]\n",
            " [0.13150685 0.15254237 0.09289617 0.06511628 0.12060302 0.39130435\n",
            "  0.96666667 1.         0.        ]\n",
            " [0.1260274  0.15254237 0.04918033 0.05581395 0.14070352 0.43478261\n",
            "  0.96666667 1.         0.        ]\n",
            " [0.11232877 0.15254237 0.05737705 0.0372093  0.19095477 0.47826087\n",
            "  0.96666667 1.         0.        ]\n",
            " [0.09315068 0.15254237 0.01092896 0.00465116 0.24623116 0.52173913\n",
            "  0.96666667 1.         0.        ]\n",
            " [0.10136986 0.15254237 0.05464481 0.05116279 0.24120603 0.56521739\n",
            "  0.96666667 1.         0.        ]\n",
            " [0.11232877 0.15254237 0.05737705 0.04651163 0.21105528 0.60869565\n",
            "  0.96666667 1.         0.        ]\n",
            " [0.08493151 0.13559322 0.02185792 0.01860465 0.25125628 0.65217391\n",
            "  0.96666667 1.         0.        ]\n",
            " [0.08493151 0.13559322 0.09836066 0.04186047 0.23115578 0.69565217\n",
            "  0.96666667 1.         0.        ]\n",
            " [0.11780822 0.15254237 0.01092896 0.00465116 0.17085427 0.73913043\n",
            "  0.96666667 1.         0.        ]\n",
            " [0.12876712 0.15254237 0.0273224  0.0372093  0.14572864 0.7826087\n",
            "  0.96666667 1.         0.        ]\n",
            " [0.13150685 0.15254237 0.01092896 0.00930233 0.15577889 0.82608696\n",
            "  0.96666667 1.         0.        ]\n",
            " [0.13972603 0.15254237 0.04918033 0.04651163 0.11557789 0.86956522\n",
            "  0.96666667 1.         0.        ]\n",
            " [0.12876712 0.13559322 0.00819672 0.01860465 0.12562814 0.91304348\n",
            "  0.96666667 1.         0.        ]\n",
            " [0.1260274  0.13559322 0.01092896 0.00930233 0.11557789 0.95652174\n",
            "  0.96666667 1.         0.        ]\n",
            " [0.1260274  0.13559322 0.01912568 0.01860465 0.09547739 1.\n",
            "  0.96666667 1.         0.        ]\n",
            " [0.09589041 0.13559322 0.03551913 0.03255814 0.16582915 0.\n",
            "  1.         1.         0.        ]\n",
            " [0.07123288 0.13559322 0.01092896 0.00465116 0.24120603 0.04347826\n",
            "  1.         1.         0.        ]\n",
            " [0.05479452 0.13559322 0.01092896 0.00465116 0.26130653 0.08695652\n",
            "  1.         1.         0.        ]\n",
            " [0.04109589 0.13559322 0.00819672 0.00930233 0.28140704 0.13043478\n",
            "  1.         1.         0.        ]\n",
            " [0.06027397 0.11864407 0.00819672 0.00930233 0.22613065 0.17391304\n",
            "  1.         1.         0.        ]\n",
            " [0.06849315 0.11864407 0.01092896 0.00465116 0.15075377 0.2173913\n",
            "  1.         1.         0.        ]\n",
            " [0.08219178 0.13559322 0.02459016 0.00930233 0.1758794  0.26086957\n",
            "  1.         1.         0.        ]\n",
            " [0.09041096 0.13559322 0.03551913 0.01860465 0.16080402 0.30434783\n",
            "  1.         1.         0.        ]]\n",
            "\n",
            " Target horizon\n",
            "\n",
            "[[0.07945205]\n",
            " [0.09041096]\n",
            " [0.07671233]\n",
            " [0.0739726 ]\n",
            " [0.08219178]\n",
            " [0.0739726 ]\n",
            " [0.07123288]\n",
            " [0.06849315]\n",
            " [0.0739726 ]\n",
            " [0.07671233]]\n"
          ]
        }
      ]
    },
    {
      "cell_type": "code",
      "metadata": {
        "id": "U5XscHpjLC9n"
      },
      "source": [
        "batch_size = 256\n",
        "buffer_size = 150\n",
        "\n",
        "train_data = tf.data.Dataset.from_tensor_slices((x_train, y_train))\n",
        "train_data = train_data.cache().shuffle(buffer_size).batch(batch_size).repeat()\n",
        "\n",
        "val_data = tf.data.Dataset.from_tensor_slices((x_vali, y_vali))\n",
        "val_data = val_data.batch(batch_size).repeat()"
      ],
      "execution_count": null,
      "outputs": []
    },
    {
      "cell_type": "code",
      "metadata": {
        "id": "bo4cY_RoLc5V"
      },
      "source": [
        "lstm_model = tf.keras.models.Sequential([\n",
        "  tf.keras.layers.Bidirectional(tf.keras.layers.LSTM(200, return_sequences=True), \n",
        "                               input_shape=x_train.shape[-2:]),\n",
        "    tf.keras.layers.Dense(20, activation='tanh'),\n",
        "    tf.keras.layers.Bidirectional(tf.keras.layers.LSTM(150)),\n",
        "    tf.keras.layers.Dense(20, activation='tanh'),\n",
        "    tf.keras.layers.Dense(20, activation='tanh'),\n",
        "    tf.keras.layers.Dropout(0.25),\n",
        "    tf.keras.layers.Dense(units=horizon),\n",
        "])\n",
        "lstm_model.compile(optimizer='adam', loss='mse')\n"
      ],
      "execution_count": null,
      "outputs": []
    },
    {
      "cell_type": "code",
      "metadata": {
        "colab": {
          "base_uri": "https://localhost:8080/"
        },
        "id": "GcDef1iHR5OA",
        "outputId": "9b2e83bf-2836-46a9-8753-a5f4d4dd0f02"
      },
      "source": [
        "lstm_model.summary()"
      ],
      "execution_count": null,
      "outputs": [
        {
          "output_type": "stream",
          "name": "stdout",
          "text": [
            "Model: \"sequential_5\"\n",
            "_________________________________________________________________\n",
            " Layer (type)                Output Shape              Param #   \n",
            "=================================================================\n",
            " bidirectional_10 (Bidirecti  (None, 24, 400)          336000    \n",
            " onal)                                                           \n",
            "                                                                 \n",
            " dense_20 (Dense)            (None, 24, 20)            8020      \n",
            "                                                                 \n",
            " bidirectional_11 (Bidirecti  (None, 300)              205200    \n",
            " onal)                                                           \n",
            "                                                                 \n",
            " dense_21 (Dense)            (None, 20)                6020      \n",
            "                                                                 \n",
            " dense_22 (Dense)            (None, 20)                420       \n",
            "                                                                 \n",
            " dropout_5 (Dropout)         (None, 20)                0         \n",
            "                                                                 \n",
            " dense_23 (Dense)            (None, 10)                210       \n",
            "                                                                 \n",
            "=================================================================\n",
            "Total params: 555,870\n",
            "Trainable params: 555,870\n",
            "Non-trainable params: 0\n",
            "_________________________________________________________________\n"
          ]
        }
      ]
    },
    {
      "cell_type": "code",
      "metadata": {
        "id": "FL_28s1QNzEP"
      },
      "source": [
        "model_path = 'Bidirectional_LSTM_Multivariate.h5'\n",
        "early_stopings = tf.keras.callbacks.EarlyStopping(monitor='val_loss', min_delta=0, patience=5, verbose=1, mode='min')\n",
        "checkpoint =  tf.keras.callbacks.ModelCheckpoint(model_path, monitor='val_loss', save_best_only=True, mode='min', verbose=0)\n",
        "callbacks=[early_stopings,checkpoint]"
      ],
      "execution_count": null,
      "outputs": []
    },
    {
      "cell_type": "code",
      "metadata": {
        "id": "sn5ZE9aUNRuU"
      },
      "source": [
        ""
      ],
      "execution_count": null,
      "outputs": []
    },
    {
      "cell_type": "code",
      "metadata": {
        "colab": {
          "base_uri": "https://localhost:8080/"
        },
        "id": "daUW6l6wO0RA",
        "outputId": "a1633a20-31f8-48dd-e209-5304a6fb8240"
      },
      "source": [
        "history = lstm_model.fit(train_data,epochs=150,steps_per_epoch=100,validation_data=val_data,validation_steps=50,verbose=1,callbacks=callbacks)"
      ],
      "execution_count": null,
      "outputs": [
        {
          "output_type": "stream",
          "name": "stdout",
          "text": [
            "Epoch 1/150\n",
            "100/100 [==============================] - 15s 76ms/step - loss: 0.0087 - val_loss: 0.0043\n",
            "Epoch 2/150\n",
            "100/100 [==============================] - 6s 57ms/step - loss: 0.0057 - val_loss: 0.0043\n",
            "Epoch 3/150\n",
            "100/100 [==============================] - 6s 57ms/step - loss: 0.0060 - val_loss: 0.0087\n",
            "Epoch 4/150\n",
            "100/100 [==============================] - 6s 58ms/step - loss: 0.0053 - val_loss: 0.0039\n",
            "Epoch 5/150\n",
            "100/100 [==============================] - 6s 58ms/step - loss: 0.0044 - val_loss: 0.0037\n",
            "Epoch 6/150\n",
            "100/100 [==============================] - 6s 57ms/step - loss: 0.0053 - val_loss: 0.0034\n",
            "Epoch 7/150\n",
            "100/100 [==============================] - 6s 56ms/step - loss: 0.0050 - val_loss: 0.0041\n",
            "Epoch 8/150\n",
            "100/100 [==============================] - 6s 56ms/step - loss: 0.0042 - val_loss: 0.0037\n",
            "Epoch 9/150\n",
            "100/100 [==============================] - 6s 59ms/step - loss: 0.0051 - val_loss: 0.0047\n",
            "Epoch 10/150\n",
            "100/100 [==============================] - 6s 56ms/step - loss: 0.0048 - val_loss: 0.0034\n",
            "Epoch 11/150\n",
            "100/100 [==============================] - 6s 56ms/step - loss: 0.0035 - val_loss: 0.0031\n",
            "Epoch 12/150\n",
            "100/100 [==============================] - 6s 56ms/step - loss: 0.0051 - val_loss: 0.0033\n",
            "Epoch 13/150\n",
            "100/100 [==============================] - 6s 56ms/step - loss: 0.0047 - val_loss: 0.0042\n",
            "Epoch 14/150\n",
            "100/100 [==============================] - 6s 56ms/step - loss: 0.0034 - val_loss: 0.0034\n",
            "Epoch 15/150\n",
            "100/100 [==============================] - 6s 56ms/step - loss: 0.0048 - val_loss: 0.0033\n",
            "Epoch 16/150\n",
            "100/100 [==============================] - 6s 56ms/step - loss: 0.0049 - val_loss: 0.0068\n",
            "Epoch 16: early stopping\n"
          ]
        }
      ]
    },
    {
      "cell_type": "code",
      "metadata": {
        "colab": {
          "base_uri": "https://localhost:8080/",
          "height": 567
        },
        "id": "E0UxNEpMU-qP",
        "outputId": "f9f020d4-e3db-445f-d153-347e68e9dba8"
      },
      "source": [
        "plt.figure(figsize=(16,9))\n",
        "plt.plot(history.history['loss'])\n",
        "plt.plot(history.history['val_loss'])\n",
        "plt.title('Model loss')\n",
        "plt.ylabel('loss')\n",
        "plt.xlabel('epoch')\n",
        "plt.legend(['train loss', 'validation loss'])\n",
        "plt.show()"
      ],
      "execution_count": null,
      "outputs": [
        {
          "output_type": "display_data",
          "data": {
            "text/plain": [
              "<Figure size 1152x648 with 1 Axes>"
            ],
            "image/png": "[encoded data removed]"
          },
          "metadata": {
            "needs_background": "light"
          }
        }
      ]
    },
    {
      "cell_type": "code",
      "metadata": {
        "colab": {
          "base_uri": "https://localhost:8080/"
        },
        "id": "iJA9NPKWVkKv",
        "outputId": "1c1ce694-da9e-4a0b-f9b5-cb7798a2470d"
      },
      "source": [
        "data.columns"
      ],
      "execution_count": null,
      "outputs": [
        {
          "output_type": "execute_result",
          "data": {
            "text/plain": [
              "Index(['holiday', 'temp', 'rain_1h', 'snow_1h', 'clouds_all', 'weather_main',\n",
              "       'weather_description', 'traffic_volume'],\n",
              "      dtype='object')"
            ]
          },
          "metadata": {
            "tags": []
          },
          "execution_count": 27
        }
      ]
    },
    {
      "cell_type": "code",
      "metadata": {
        "id": "qWxrGOpiVEot"
      },
      "source": [
        "data_val = X_scaler.fit_transform(df_features[['NO2', 'SO2', 'PM10', 'PM25', 'O3', 'Hour', 'Day', 'Month_Of_Year', 'Year']].tail(24)) # tail del tamaño del input\n",
        "val_rescaled = data_val.reshape(1, data_val.shape[0], data_val.shape[1])"
      ],
      "execution_count": null,
      "outputs": []
    },
    {
      "cell_type": "code",
      "metadata": {
        "colab": {
          "base_uri": "https://localhost:8080/"
        },
        "id": "gaan6bDtVtBF",
        "outputId": "5b03fbba-3e8a-4073-d7e4-bc003a94758f"
      },
      "source": [
        "pred = lstm_model.predict(val_rescaled)\n",
        "pred"
      ],
      "execution_count": null,
      "outputs": [
        {
          "output_type": "execute_result",
          "data": {
            "text/plain": [
              "array([[0.1478043 , 0.1828264 , 0.18291438, 0.19104329, 0.20869508,\n",
              "        0.2010971 , 0.21232143, 0.25626642, 0.28834298, 0.307441  ]],\n",
              "      dtype=float32)"
            ]
          },
          "metadata": {},
          "execution_count": 92
        }
      ]
    },
    {
      "cell_type": "code",
      "metadata": {
        "id": "vkt0gdekV2MH"
      },
      "source": [
        "pred_Inverse = Y_scaler.inverse_transform(pred)"
      ],
      "execution_count": null,
      "outputs": []
    },
    {
      "cell_type": "code",
      "metadata": {
        "colab": {
          "base_uri": "https://localhost:8080/"
        },
        "id": "GPD_3JgNV_w4",
        "outputId": "19992499-fd2d-4af5-b073-9874b3914a1e"
      },
      "source": [
        "pred_Inverse"
      ],
      "execution_count": null,
      "outputs": [
        {
          "output_type": "execute_result",
          "data": {
            "text/plain": [
              "array([[ 57.948574,  70.731636,  70.76375 ,  73.730804,  80.173706,\n",
              "         77.400444,  81.49732 ,  97.53725 , 109.24519 , 116.215965]],\n",
              "      dtype=float32)"
            ]
          },
          "metadata": {},
          "execution_count": 94
        }
      ]
    },
    {
      "cell_type": "code",
      "metadata": {
        "id": "SbG2_4bzWD1M"
      },
      "source": [
        "def timeseries_evaluation_metrics_func(y_true, y_pred):\n",
        "    def mean_absolute_percentage_error(y_true, y_pred): \n",
        "        y_true, y_pred = np.array(y_true), np.array(y_pred)\n",
        "        return np.mean(np.abs((y_true - y_pred) / y_true)) * 100\n",
        "    print('Evaluation metric results:-')\n",
        "    print(f'MSE is : {metrics.mean_squared_error(y_true, y_pred)}')\n",
        "    print(f'MAE is : {metrics.mean_absolute_error(y_true, y_pred)}')\n",
        "    print(f'RMSE is : {np.sqrt(metrics.mean_squared_error(y_true, y_pred))}')\n",
        "    print(f'MAPE is : {mean_absolute_percentage_error(y_true, y_pred)}')\n",
        "    print(f'R2 is : {metrics.r2_score(y_true, y_pred)}',end='\\n\\n')"
      ],
      "execution_count": null,
      "outputs": []
    },
    {
      "cell_type": "markdown",
      "metadata": {
        "id": "Nc2T3-IoOoRL"
      },
      "source": [
        ""
      ]
    },
    {
      "cell_type": "code",
      "metadata": {
        "colab": {
          "base_uri": "https://localhost:8080/"
        },
        "id": "cSYeVrRJIxeq",
        "outputId": "74a5aeff-bac9-4594-e65c-8aadb30e08cc"
      },
      "source": [
        "pred_Inverse[0]"
      ],
      "execution_count": null,
      "outputs": [
        {
          "output_type": "execute_result",
          "data": {
            "text/plain": [
              "array([ 57.948574,  70.731636,  70.76375 ,  73.730804,  80.173706,\n",
              "        77.400444,  81.49732 ,  97.53725 , 109.24519 , 116.215965],\n",
              "      dtype=float32)"
            ]
          },
          "metadata": {},
          "execution_count": 96
        }
      ]
    },
    {
      "cell_type": "code",
      "metadata": {
        "colab": {
          "base_uri": "https://localhost:8080/"
        },
        "id": "gCjQBVKPWVHe",
        "outputId": "09be4cce-f7eb-4e81-abd8-25eea0422da3"
      },
      "source": [
        "timeseries_evaluation_metrics_func(validate['NO2'],pred_Inverse[0])"
      ],
      "execution_count": null,
      "outputs": [
        {
          "output_type": "stream",
          "name": "stdout",
          "text": [
            "Evaluation metric results:-\n",
            "MSE is : 3467.4122959819406\n",
            "MAE is : 55.22446403503418\n",
            "RMSE is : 58.88473737720107\n",
            "MAPE is : 226.7248804216117\n",
            "R2 is : -42.774931144829445\n",
            "\n"
          ]
        }
      ]
    },
    {
      "cell_type": "code",
      "metadata": {
        "colab": {
          "base_uri": "https://localhost:8080/",
          "height": 553
        },
        "id": "mXTILGKqWks0",
        "outputId": "58cb49fe-bada-4306-bbb2-22c28823aaea"
      },
      "source": [
        "plt.figure(figsize=(16,9))\n",
        "plt.plot( list(validate['traffic_volume']))\n",
        "plt.plot( list(pred_Inverse[0]))\n",
        "plt.title(\"Actual vs Predicted\")\n",
        "plt.ylabel(\"Traffic volume\")\n",
        "plt.legend(('Actual','predicted'))\n",
        "plt.show()"
      ],
      "execution_count": null,
      "outputs": [
        {
          "output_type": "display_data",
          "data": {
            "image/png": "[encoded data removed]",
            "text/plain": [
              "<Figure size 1152x648 with 1 Axes>"
            ]
          },
          "metadata": {
            "tags": [],
            "needs_background": "light"
          }
        }
      ]
    },
    {
      "cell_type": "code",
      "metadata": {
        "id": "S7s-ib2GWuJ8"
      },
      "source": [
        ""
      ],
      "execution_count": null,
      "outputs": []
    }
  ]
}